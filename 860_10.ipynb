{
  "nbformat": 4,
  "nbformat_minor": 0,
  "metadata": {
    "colab": {
      "name": "860.10.ipynb",
      "provenance": [],
      "collapsed_sections": [],
      "authorship_tag": "ABX9TyNhYZxwVa8CDF3T4n65xrbp",
      "include_colab_link": true
    },
    "kernelspec": {
      "name": "python3",
      "display_name": "Python 3"
    },
    "language_info": {
      "name": "python"
    }
  },
  "cells": [
    {
      "cell_type": "markdown",
      "metadata": {
        "id": "view-in-github",
        "colab_type": "text"
      },
      "source": [
        "<a href=\"https://colab.research.google.com/github/seajai24/Math-Worksheets/blob/main/860_10.ipynb\" target=\"_parent\"><img src=\"https://colab.research.google.com/assets/colab-badge.svg\" alt=\"Open In Colab\"/></a>"
      ]
    },
    {
      "cell_type": "code",
      "execution_count": 26,
      "metadata": {
        "id": "1eFeBS08nBpa",
        "colab": {
          "base_uri": "https://localhost:8080/"
        },
        "outputId": "947ca2fe-3e6d-4bf0-fef8-02d5aa9d191e"
      },
      "outputs": [
        {
          "output_type": "stream",
          "name": "stdout",
          "text": [
            "1. The length of a rectangle is 1/8 its width. The perimeter is 52.2 in. What is its area?\n",
            "Area = 67.3 sq. in., Length = 2.9 in., Width = 23.2 in.\n",
            "\n",
            "\n",
            "2. The width of a rectangle is 1/9 its length. The perimeter is 26.0 in. What is its area?\n",
            "Area = 15.2 sq. in., Length = 11.7 in., Width = 1.3 in.\n",
            "\n",
            "\n",
            "3. The width of a rectangle is 1/7 its length. The perimeter is 142.4 in. What is its area?\n",
            "Area = 554.5 sq. in., Length = 62.3 in., Width = 8.9 in.\n",
            "\n",
            "\n",
            "4. The length of a rectangle is 1/5 its width. The perimeter is 18.0 in. What is its area?\n",
            "Area = 11.2 sq. in., Length = 1.5 in., Width = 7.5 in.\n",
            "\n",
            "\n",
            "5. The length of a rectangle is 1/9 its width. The perimeter is 126.0 in. What is its area?\n",
            "Area = 357.2 sq. in., Length = 6.3 in., Width = 56.7 in.\n",
            "\n",
            "\n",
            "6. The width of a rectangle is 1/6 its length. The perimeter is 25.2 in. What is its area?\n",
            "Area = 19.4 sq. in., Length = 10.8 in., Width = 1.8 in.\n",
            "\n",
            "\n",
            "7. The width of a rectangle is 1/9 its length. The perimeter is 162.0 in. What is its area?\n",
            "Area = 590.5 sq. in., Length = 72.9 in., Width = 8.1 in.\n",
            "\n",
            "\n",
            "8. The width of a rectangle is 1/4 its length. The perimeter is 43.0 in. What is its area?\n",
            "Area = 74.0 sq. in., Length = 17.2 in., Width = 4.3 in.\n",
            "\n",
            "\n",
            "9. The width of a rectangle is 1/2 its length. The perimeter is 51.6 in. What is its area?\n",
            "Area = 147.9 sq. in., Length = 17.2 in., Width = 8.6 in.\n",
            "\n",
            "\n",
            "10. The width of a rectangle is 1/2 its length. The perimeter is 39.6 in. What is its area?\n",
            "Area = 87.1 sq. in., Length = 13.2 in., Width = 6.6 in.\n",
            "\n",
            "\n"
          ]
        }
      ],
      "source": [
        "#Use a perimeter and a system of equations to solve for the length, width, and area of a rectangle \n",
        "import random as ra\n",
        "import numpy as np\n",
        "\n",
        "dimensions = np.arange(1,10,0.1)\n",
        "lw = ['length', 'width']\n",
        "multipliers = list(range(2,10))\n",
        "\n",
        "for i in range(0,10) :\n",
        "  small = ra.choice(lw)\n",
        "\n",
        "  m = ra.choice(multipliers)\n",
        "\n",
        "  if small == 'length' :\n",
        "    length = ra.choice(dimensions)\n",
        "    width = length * m\n",
        "    large = 'width'\n",
        "  else :\n",
        "    width = ra.choice(dimensions)\n",
        "    length = width * m\n",
        "    large = 'length'\n",
        "\n",
        "  length = round(length, 1)\n",
        "  width = round(width, 1)\n",
        "\n",
        "  area = round(length * width, 1)\n",
        "  perimeter = round(2*length + 2*width, 1)\n",
        "\n",
        "  print('{}. The {} of a rectangle is 1/{} its {}. The perimeter is {} in. What is its area?'.format(i+1, small, m, large, perimeter))\n",
        "  print('Area = {} sq. in., Length = {} in., Width = {} in.\\n\\n'.format(area, length, width))"
      ]
    },
    {
      "cell_type": "code",
      "source": [
        ""
      ],
      "metadata": {
        "id": "p6EVEPakCDF9"
      },
      "execution_count": null,
      "outputs": []
    }
  ]
}