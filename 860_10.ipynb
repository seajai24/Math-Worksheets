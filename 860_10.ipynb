{
  "nbformat": 4,
  "nbformat_minor": 0,
  "metadata": {
    "colab": {
      "name": "860.10.ipynb",
      "provenance": [],
      "collapsed_sections": [],
      "authorship_tag": "ABX9TyNhYZxwVa8CDF3T4n65xrbp",
      "include_colab_link": true
    },
    "kernelspec": {
      "name": "python3",
      "display_name": "Python 3"
    },
    "language_info": {
      "name": "python"
    }
  },
  "cells": [
    {
      "cell_type": "markdown",
      "metadata": {
        "id": "view-in-github",
        "colab_type": "text"
      },
      "source": [
        "<a href=\"https://colab.research.google.com/github/seajai24/Math-Worksheets/blob/main/860_10.ipynb\" target=\"_parent\"><img src=\"https://colab.research.google.com/assets/colab-badge.svg\" alt=\"Open In Colab\"/></a>"
      ]
    },
    {
      "cell_type": "code",
      "execution_count": null,
      "metadata": {
        "colab": {
          "base_uri": "https://localhost:8080/"
        },
        "id": "1eFeBS08nBpa",
        "outputId": "4bfa77e4-0bd1-49fe-a50e-49751a46af98"
      },
      "outputs": [
        {
          "output_type": "stream",
          "name": "stdout",
          "text": [
            "1. The length of a rectangle is 1/4 its width. The perimeter is 32.0 in. What is its area?\n",
            "Area = 41.0 sq. in., Length = 3.2 in., Width = 12.8 in.\n",
            "\n",
            "\n",
            "2. The width of a rectangle is 1/9 its length. The perimeter is 146.0 in. What is its area?\n",
            "Area = 479.6 sq. in., Length = 65.7 in., Width = 7.3 in.\n",
            "\n",
            "\n",
            "3. The length of a rectangle is 1/9 its width. The perimeter is 170.0 in. What is its area?\n",
            "Area = 650.2 sq. in., Length = 8.5 in., Width = 76.5 in.\n",
            "\n",
            "\n",
            "4. The width of a rectangle is 1/4 its length. The perimeter is 76.0 in. What is its area?\n",
            "Area = 231.0 sq. in., Length = 30.4 in., Width = 7.6 in.\n",
            "\n",
            "\n",
            "5. The length of a rectangle is 1/2 its width. The perimeter is 22.8 in. What is its area?\n",
            "Area = 28.9 sq. in., Length = 3.8 in., Width = 7.6 in.\n",
            "\n",
            "\n",
            "6. The width of a rectangle is 1/2 its length. The perimeter is 7.2 in. What is its area?\n",
            "Area = 2.9 sq. in., Length = 2.4 in., Width = 1.2 in.\n",
            "\n",
            "\n",
            "7. The width of a rectangle is 1/2 its length. The perimeter is 43.2 in. What is its area?\n",
            "Area = 103.7 sq. in., Length = 14.4 in., Width = 7.2 in.\n",
            "\n",
            "\n",
            "8. The width of a rectangle is 1/5 its length. The perimeter is 34.8 in. What is its area?\n",
            "Area = 42.0 sq. in., Length = 14.5 in., Width = 2.9 in.\n",
            "\n",
            "\n",
            "9. The length of a rectangle is 1/8 its width. The perimeter is 68.4 in. What is its area?\n",
            "Area = 115.5 sq. in., Length = 3.8 in., Width = 30.4 in.\n",
            "\n",
            "\n",
            "10. The length of a rectangle is 1/8 its width. The perimeter is 145.8 in. What is its area?\n",
            "Area = 524.9 sq. in., Length = 8.1 in., Width = 64.8 in.\n",
            "\n",
            "\n"
          ]
        }
      ],
      "source": [
        "#Use a perimeter and a system of equations to solve for the length, width, and area of a rectangle \n",
        "import random as ra\n",
        "import numpy as np\n",
        "\n",
        "dimensions = np.arange(1,10,0.1)\n",
        "lw = ['length', 'width']\n",
        "multipliers = list(range(2,10))\n",
        "\n",
        "for i in range(0,10) :\n",
        "  small = ra.choice(lw)\n",
        "\n",
        "  m = ra.choice(multipliers)\n",
        "\n",
        "  if small == 'length' :\n",
        "    length = ra.choice(dimensions)\n",
        "    width = length * m\n",
        "    large = 'width'\n",
        "  else :\n",
        "    width = ra.choice(dimensions)\n",
        "    length = width * m\n",
        "    large = 'length'\n",
        "\n",
        "  length = round(length, 1)\n",
        "  width = round(width, 1)\n",
        "\n",
        "  area = round(length * width, 1)\n",
        "  perimeter = round(2*length + 2*width, 1)\n",
        "\n",
        "  print('{}. The {} of a rectangle is 1/{} its {}. The perimeter is {} in. What is its area?'.format(i+1, small, m, large, perimeter))\n",
        "  print('Area = {} sq. in., Length = {} in., Width = {} in.\\n\\n'.format(area, length, width))"
      ]
    },
    {
      "cell_type": "code",
      "source": [
        ""
      ],
      "metadata": {
        "id": "2jYYlWoonN9O"
      },
      "execution_count": null,
      "outputs": []
    }
  ]
}