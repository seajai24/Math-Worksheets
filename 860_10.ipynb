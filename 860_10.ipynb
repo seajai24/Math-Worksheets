{
  "nbformat": 4,
  "nbformat_minor": 0,
  "metadata": {
    "colab": {
      "name": "860.10.ipynb",
      "provenance": [],
      "collapsed_sections": [],
      "authorship_tag": "ABX9TyOpGC7e6X/HCYBz7iaCRHV5",
      "include_colab_link": true
    },
    "kernelspec": {
      "name": "python3",
      "display_name": "Python 3"
    },
    "language_info": {
      "name": "python"
    }
  },
  "cells": [
    {
      "cell_type": "markdown",
      "metadata": {
        "id": "view-in-github",
        "colab_type": "text"
      },
      "source": [
        "<a href=\"https://colab.research.google.com/github/seajai24/Math-Worksheets/blob/main/860_10.ipynb\" target=\"_parent\"><img src=\"https://colab.research.google.com/assets/colab-badge.svg\" alt=\"Open In Colab\"/></a>"
      ]
    },
    {
      "cell_type": "code",
      "execution_count": null,
      "metadata": {
        "id": "1eFeBS08nBpa"
      },
      "outputs": [],
      "source": [
        "#Use a perimeter and a system of equations to solve for the length, width, and area of a rectangle \n",
        "import random as ra\n",
        "import numpy as np\n",
        "\n",
        "dimensions = np.arange(1,10,0.1)\n",
        "lw = ['length', 'width']\n",
        "multipliers = list(range(2,10))\n",
        "\n",
        "for i in range(0,10) :\n",
        "  small = ra.choice(lw)\n",
        "\n",
        "  m = ra.choice(multipliers)\n",
        "\n",
        "  if small == 'length' :\n",
        "    length = ra.choice(dimensions)\n",
        "    width = length * m\n",
        "    large = 'width'\n",
        "  else :\n",
        "    width = ra.choice(dimensions)\n",
        "    length = width * m\n",
        "    large = 'length'\n",
        "\n",
        "  length = round(length, 1)\n",
        "  width = round(width, 1)\n",
        "\n",
        "  area = round(length * width, 1)\n",
        "  perimeter = round(2*length + 2*width, 1)\n",
        "\n",
        "  print('{}. The {} of a rectangle is 1/{} its {}. The perimeter is {} in. What is its area?'.format(i+1, small, m, large, perimeter))\n",
        "  print('Area = {} sq. in., Length = {} in., Width = {} in.\\n\\n'.format(area, length, width))"
      ]
    }
  ]
}