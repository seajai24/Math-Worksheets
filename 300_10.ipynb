{
  "nbformat": 4,
  "nbformat_minor": 0,
  "metadata": {
    "colab": {
      "name": "300.10.ipynb",
      "provenance": [],
      "collapsed_sections": [],
      "authorship_tag": "ABX9TyOa2saB1XSemhRq2sjZti6d",
      "include_colab_link": true
    },
    "kernelspec": {
      "name": "python3",
      "display_name": "Python 3"
    },
    "language_info": {
      "name": "python"
    }
  },
  "cells": [
    {
      "cell_type": "markdown",
      "metadata": {
        "id": "view-in-github",
        "colab_type": "text"
      },
      "source": [
        "<a href=\"https://colab.research.google.com/github/seajai24/Math-Worksheets/blob/main/300_10.ipynb\" target=\"_parent\"><img src=\"https://colab.research.google.com/assets/colab-badge.svg\" alt=\"Open In Colab\"/></a>"
      ]
    },
    {
      "cell_type": "code",
      "metadata": {
        "colab": {
          "base_uri": "https://localhost:8080/",
          "height": 1000
        },
        "id": "2v5gkxmYpeNh",
        "outputId": "407a81e3-2893-4673-e1eb-c9ed8b3c5867"
      },
      "source": [
        "#Create a chosen shape on a graph, cut it into a chosen number of sections, then shade a chosen number of those sections\n",
        "\n",
        "import random as ra\n",
        "import matplotlib.pyplot as plt\n",
        "import math\n",
        "import numpy as np\n",
        "from fractions import Fraction\n",
        "\n",
        "shapes = ['square', 'rectangle', 'circle']\n",
        "fractions = [1/2, 1/3, 1/4, 1/5]\n",
        "directions = ['horizontal', 'vertical']\n",
        "\n",
        "#Square\n",
        "def square(side) :\n",
        "  fig = plt.figure(figsize = (side + 3, side + 3))\n",
        "  ax = fig.add_subplot(111)\n",
        "\n",
        "  sq = plt.Rectangle((0,0), side, side, fc = 'white', ec = 'black', lw = 2)\n",
        "  plt.gca().add_patch(sq)\n",
        "  plt.axis('scaled')\n",
        "\n",
        "  ax.axis('off')\n",
        "\n",
        "#Rectangle\n",
        "def rectangle(length, width) :\n",
        "  fig = plt.figure(figsize = (length + 3, width + 3))\n",
        "  ax = fig.add_subplot(111)\n",
        "\n",
        "  rec = plt.Rectangle((0,0), length, width, fc = 'white', ec = 'black', lw = 2)\n",
        "  plt.gca().add_patch(rec)\n",
        "  plt.axis('scaled')\n",
        "\n",
        "  ax.axis('off')\n",
        "\n",
        "#Circle\n",
        "def circle(radius, cuts, which) :\n",
        "  fig = plt.figure(figsize = (2*radius + 1, 2*radius + 1))\n",
        "  ax = fig.add_subplot(111)\n",
        "\n",
        "  sizes = [360/cuts]*cuts\n",
        "  colors = ['#ffffff']*cuts\n",
        "  shades = ['a']*cuts\n",
        "  if type(which) == int :\n",
        "    which_str = [str(which)]\n",
        "  else :\n",
        "    which_str = [str(aa) for aa in which]\n",
        "  for i in which_str :\n",
        "    j = int(i)\n",
        "    colors[j-1] = '#BEBEBE'\n",
        "  ax.pie(sizes, startangle=90, colors = colors, wedgeprops={'edgecolor':'k', 'linewidth': 2, 'linestyle': 'solid', 'antialiased': True})\n",
        "  ax.axis('off')\n",
        "\n",
        "for num in range(0,10) :\n",
        "  #Pick a shape and how many cuts\n",
        "  shape = ra.choice(shapes)\n",
        "  frac = ra.choice(fractions)\n",
        "\n",
        "  #Initialize direction of cuts\n",
        "  if shape != 'circle' :\n",
        "    direction = ra.choice(directions)\n",
        "  else :\n",
        "    direction = 'none'\n",
        "\n",
        "  #Choose number of shaded regions\n",
        "  regions = list(range(1, int(1/frac)))\n",
        "  reg = ra.choice(regions)\n",
        "\n",
        "  #Choose which regions to shade\n",
        "  which_reg = list(range(1, int(1/frac)+1))\n",
        "  which = ra.sample(which_reg, reg)\n",
        "\n",
        "  #Initialize side lengths/radius\n",
        "  if shape == 'square' :\n",
        "    s = 2\n",
        "  elif shape == 'rectangle' :\n",
        "    len = 4\n",
        "    wid = 2\n",
        "  else :\n",
        "    r = 2\n",
        "\n",
        "  #Add lines that cut the shapes\n",
        "  if direction == 'horizontal' :\n",
        "    if shape == 'square' :\n",
        "      square(s)\n",
        "      for i in range(1, int(1/frac)) :\n",
        "        plt.plot([0,s], [i*frac*s, i*frac*s], color = 'black')\n",
        "    else :\n",
        "      rectangle(len,wid)\n",
        "      for i in range(1, int(1/frac)) :\n",
        "        plt.plot([0,len], [i*frac*wid, i*frac*wid], color = 'black')\n",
        "\n",
        "  elif direction == 'vertical' :\n",
        "    if shape == 'square' :\n",
        "      square(s)\n",
        "      for i in range(1, int(1/frac)) :\n",
        "        plt.plot([i*frac*s, i*frac*s], [0,s], color = 'black')\n",
        "    else :\n",
        "      rectangle(len,wid)\n",
        "      for i in range(1, int(1/frac)) :\n",
        "        plt.plot([i*frac*len, i*frac*len], [0,wid], color = 'black')\n",
        "\n",
        "  else :\n",
        "    circle(r, int(1/frac), which)\n",
        "\n",
        "\n",
        "  #Shade regions\n",
        "\n",
        "  #Horizontal square\n",
        "  if shape == 'square' :\n",
        "    if direction == 'horizontal' :\n",
        "      if reg == 1 :\n",
        "        for w in which :\n",
        "            x = [0.02, 1.98, 1.98, 0.02]\n",
        "            y1 = [s*frac*(w - 1), s*frac*(w - 1), s*frac*w, s*frac*w]\n",
        "            plt.fill(x,y1, color = 'gray', alpha = 0.5)\n",
        "      elif reg == 2 :\n",
        "        for w in which :\n",
        "          x = [0.02, 1.98, 1.98, 0.02]\n",
        "          y1 = [s*frac*(w - 1), s*frac*(w - 1), s*frac*w, s*frac*w]\n",
        "          plt.fill(x,y1, color = 'gray', alpha = 0.5)\n",
        "      elif reg == 3 :\n",
        "        for w in which :\n",
        "          x = [0.02, 1.98, 1.98, 0.02]\n",
        "          y1 = [s*frac*(w - 1), s*frac*(w - 1), s*frac*w, s*frac*w]\n",
        "          plt.fill(x,y1, color = 'gray', alpha = 0.5)\n",
        "      else :\n",
        "        for w in which :\n",
        "          x = [0.02, 1.98, 1.98, 0.02]\n",
        "          y1 = [s*frac*(w - 1), s*frac*(w - 1), s*frac*w, s*frac*w]\n",
        "          plt.fill(x,y1, color = 'gray', alpha = 0.5)\n",
        "  #Vertical square\n",
        "    else :\n",
        "      if reg == 1 :\n",
        "        for w in which :\n",
        "          x = [s*frac*(w - 1), s*frac*(w - 1), s*frac*w, s*frac*w]\n",
        "          y1 = [0.02, 1.98, 1.98, 0.02]\n",
        "          plt.fill(x,y1, color = 'gray', alpha = 0.5)\n",
        "      elif reg == 2 :\n",
        "        for w in which :\n",
        "          x = [s*frac*(w - 1), s*frac*(w - 1), s*frac*w, s*frac*w]\n",
        "          y1 = [0.02, 1.98, 1.98, 0.02]\n",
        "          plt.fill(x,y1, color = 'gray', alpha = 0.5)\n",
        "      elif reg == 3 :\n",
        "        for w in which :\n",
        "          x = [s*frac*(w - 1), s*frac*(w - 1), s*frac*w, s*frac*w]\n",
        "          y1 = [0.02, 1.98, 1.98, 0.02]\n",
        "          plt.fill(x,y1, color = 'gray', alpha = 0.5)\n",
        "      else :\n",
        "        for w in which :\n",
        "          x = [s*frac*(w - 1), s*frac*(w - 1), s*frac*w, s*frac*w]\n",
        "          y1 = [0.02, 1.99, 1.99, 0.02]\n",
        "          plt.fill(x,y1, color = 'gray', alpha = 0.5)\n",
        "\n",
        "  #Horizontal rectangle\n",
        "  elif shape == 'rectangle' :\n",
        "    if direction == 'horizontal' :\n",
        "      if reg == 1 :\n",
        "        for w in which :\n",
        "          x = [0.02, 3.98, 3.98, 0.02]\n",
        "          y1 = [wid*frac*(w - 1), wid*frac*(w - 1), wid*frac*w, wid*frac*w]\n",
        "          plt.fill(x,y1, color = 'gray', alpha = 0.5)\n",
        "      elif reg == 2 :\n",
        "        for w in which :\n",
        "          x = [0.02, 3.98, 3.98, 0.02]\n",
        "          y1 = [wid*frac*(w - 1), wid*frac*(w - 1), wid*frac*w, wid*frac*w]\n",
        "          plt.fill(x,y1, color = 'gray', alpha = 0.5)\n",
        "      elif reg == 3 :\n",
        "        for w in which :\n",
        "          x = [0.02, 3.98, 3.98, 0.02]\n",
        "          y1 = [wid*frac*(w - 1), wid*frac*(w - 1), wid*frac*w, wid*frac*w]\n",
        "          plt.fill(x,y1, color = 'gray', alpha = 0.5)\n",
        "      else :\n",
        "        for w in which :\n",
        "          x = [0.02, 3.98, 3.98, 0.02]\n",
        "          y1 = [wid*frac*(w - 1), wid*frac*(w - 1), wid*frac*w, wid*frac*w]\n",
        "          plt.fill(x,y1, color = 'gray', alpha = 0.5)\n",
        "  #Vertical rectangle\n",
        "    else :\n",
        "      if reg == 1 :\n",
        "        for w in which :\n",
        "          x = [len*frac*(w - 1), len*frac*(w - 1), len*frac*w, len*frac*w]\n",
        "          y1 = [0.02, 1.98, 1.98, 0.02]\n",
        "          plt.fill(x,y1, color = 'gray', alpha = 0.5)\n",
        "      elif reg == 2 :\n",
        "        for w in which :\n",
        "          x = [len*frac*(w - 1), len*frac*(w - 1), len*frac*w, len*frac*w]\n",
        "          y1 = [0.02, 1.98, 1.98, 0.02]\n",
        "          plt.fill(x,y1, color = 'gray', alpha = 0.5)\n",
        "      elif reg == 3 :\n",
        "        for w in which :\n",
        "          x = [len*frac*(w - 1), len*frac*(w - 1), len*frac*w, len*frac*w]\n",
        "          y1 = [0.02, 1.98, 1.98, 0.02]\n",
        "          plt.fill(x,y1, color = 'gray', alpha = 0.5)\n",
        "      else :\n",
        "        for w in which :\n",
        "          x = [len*frac*(w - 1), len*frac*(w - 1), len*frac*w, len*frac*w]\n",
        "          y1 = [0.02, 1.99, 1.99, 0.02]\n",
        "          plt.fill(x,y1, color = 'gray', alpha = 0.5)\n",
        "\n",
        "  #Circle\n",
        "  else :\n",
        "    pass\n",
        "\n",
        "  print('What part is shaded?')\n",
        "  plt.show()\n",
        "  print(Fraction(reg*frac).limit_denominator())\n",
        "  print('\\n')\n"
      ],
      "execution_count": null,
      "outputs": [
        {
          "output_type": "stream",
          "name": "stdout",
          "text": [
            "What part is shaded?\n"
          ]
        },
        {
          "output_type": "display_data",
          "data": {
            "image/png": "[encoded data removed]",
            "text/plain": [
              "<Figure size 360x360 with 1 Axes>"
            ]
          },
          "metadata": {}
        },
        {
          "output_type": "stream",
          "name": "stdout",
          "text": [
            "1/4\n",
            "\n",
            "\n",
            "What part is shaded?\n"
          ]
        },
        {
          "output_type": "display_data",
          "data": {
            "image/png": "[encoded data removed]",
            "text/plain": [
              "<Figure size 360x360 with 1 Axes>"
            ]
          },
          "metadata": {
            "needs_background": "light"
          }
        },
        {
          "output_type": "stream",
          "name": "stdout",
          "text": [
            "1/5\n",
            "\n",
            "\n",
            "What part is shaded?\n"
          ]
        },
        {
          "output_type": "display_data",
          "data": {
            "image/png": "[encoded data removed]",
            "text/plain": [
              "<Figure size 360x360 with 1 Axes>"
            ]
          },
          "metadata": {
            "needs_background": "light"
          }
        },
        {
          "output_type": "stream",
          "name": "stdout",
          "text": [
            "1/3\n",
            "\n",
            "\n",
            "What part is shaded?\n"
          ]
        },
        {
          "output_type": "display_data",
          "data": {
            "image/png": "[encoded data removed]",
            "text/plain": [
              "<Figure size 504x360 with 1 Axes>"
            ]
          },
          "metadata": {
            "needs_background": "light"
          }
        },
        {
          "output_type": "stream",
          "name": "stdout",
          "text": [
            "4/5\n",
            "\n",
            "\n",
            "What part is shaded?\n"
          ]
        },
        {
          "output_type": "display_data",
          "data": {
            "image/png": "[encoded data removed]",
            "text/plain": [
              "<Figure size 504x360 with 1 Axes>"
            ]
          },
          "metadata": {
            "needs_background": "light"
          }
        },
        {
          "output_type": "stream",
          "name": "stdout",
          "text": [
            "1/5\n",
            "\n",
            "\n",
            "What part is shaded?\n"
          ]
        },
        {
          "output_type": "display_data",
          "data": {
            "image/png": "[encoded data removed]",
            "text/plain": [
              "<Figure size 360x360 with 1 Axes>"
            ]
          },
          "metadata": {
            "needs_background": "light"
          }
        },
        {
          "output_type": "stream",
          "name": "stdout",
          "text": [
            "1/3\n",
            "\n",
            "\n",
            "What part is shaded?\n"
          ]
        },
        {
          "output_type": "display_data",
          "data": {
            "image/png": "[encoded data removed]",
            "text/plain": [
              "<Figure size 360x360 with 1 Axes>"
            ]
          },
          "metadata": {
            "needs_background": "light"
          }
        },
        {
          "output_type": "stream",
          "name": "stdout",
          "text": [
            "1/3\n",
            "\n",
            "\n",
            "What part is shaded?\n"
          ]
        },
        {
          "output_type": "display_data",
          "data": {
            "image/png": "[encoded data removed]",
            "text/plain": [
              "<Figure size 360x360 with 1 Axes>"
            ]
          },
          "metadata": {}
        },
        {
          "output_type": "stream",
          "name": "stdout",
          "text": [
            "1/2\n",
            "\n",
            "\n",
            "What part is shaded?\n"
          ]
        },
        {
          "output_type": "display_data",
          "data": {
            "image/png": "[encoded data removed]",
            "text/plain": [
              "<Figure size 360x360 with 1 Axes>"
            ]
          },
          "metadata": {
            "needs_background": "light"
          }
        },
        {
          "output_type": "stream",
          "name": "stdout",
          "text": [
            "2/5\n",
            "\n",
            "\n",
            "What part is shaded?\n"
          ]
        },
        {
          "output_type": "display_data",
          "data": {
            "image/png": "[encoded data removed]",
            "text/plain": [
              "<Figure size 504x360 with 1 Axes>"
            ]
          },
          "metadata": {
            "needs_background": "light"
          }
        },
        {
          "output_type": "stream",
          "name": "stdout",
          "text": [
            "2/3\n",
            "\n",
            "\n"
          ]
        }
      ]
    },
    {
      "cell_type": "code",
      "metadata": {
        "id": "6v-c-EvD0CuE"
      },
      "source": [
        ""
      ],
      "execution_count": null,
      "outputs": []
    }
  ]
}